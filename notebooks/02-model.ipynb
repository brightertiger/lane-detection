{
 "cells": [
  {
   "cell_type": "code",
   "execution_count": 1,
   "id": "c3e461a5",
   "metadata": {},
   "outputs": [],
   "source": [
    "import os\n",
    "import sys\n",
    "sys.path.append('..')"
   ]
  },
  {
   "cell_type": "code",
   "execution_count": 2,
   "id": "981f4ae8",
   "metadata": {},
   "outputs": [],
   "source": [
    "import random\n",
    "import torch\n",
    "import pandas as pd\n",
    "import numpy as np\n",
    "from torch.utils.data import DataLoader\n",
    "from torch.optim import Adam\n",
    "from torch.optim.lr_scheduler import ReduceLROnPlateau"
   ]
  },
  {
   "cell_type": "code",
   "execution_count": 3,
   "id": "a0edd177",
   "metadata": {},
   "outputs": [],
   "source": [
    "from source.data import dataLoader\n",
    "from source.model import Model\n",
    "from source.loss import Loss, Metric\n",
    "from source.train import trainModel"
   ]
  },
  {
   "cell_type": "markdown",
   "id": "afff9e5c",
   "metadata": {},
   "source": [
    "### Seed"
   ]
  },
  {
   "cell_type": "code",
   "execution_count": 4,
   "id": "00f6b26e",
   "metadata": {},
   "outputs": [],
   "source": [
    "seed = 2017\n",
    "random.seed(seed)\n",
    "os.environ['PYTHONHASHSEED'] = str(seed)\n",
    "np.random.seed(seed)\n",
    "torch.manual_seed(seed)\n",
    "torch.cuda.manual_seed(seed)\n",
    "torch.backends.cudnn.deterministic = True\n",
    "torch.backends.cudnn.benchmark = True"
   ]
  },
  {
   "cell_type": "markdown",
   "id": "73221560",
   "metadata": {},
   "source": [
    "### Model"
   ]
  },
  {
   "cell_type": "code",
   "execution_count": 5,
   "id": "6f13ed7b",
   "metadata": {},
   "outputs": [],
   "source": [
    "model = Model()\n",
    "model = model.to('cuda:0')"
   ]
  },
  {
   "cell_type": "markdown",
   "id": "0c7aabfc",
   "metadata": {},
   "source": [
    "### Loss"
   ]
  },
  {
   "cell_type": "code",
   "execution_count": 6,
   "id": "40137f16",
   "metadata": {},
   "outputs": [],
   "source": [
    "loss = Loss()\n",
    "metric = Metric() "
   ]
  },
  {
   "cell_type": "markdown",
   "id": "69b9192d",
   "metadata": {},
   "source": [
    "### Optimizer"
   ]
  },
  {
   "cell_type": "code",
   "execution_count": 7,
   "id": "2e540390",
   "metadata": {},
   "outputs": [],
   "source": [
    "optimizer = Adam(model.parameters(), lr=1e-3, weight_decay=1e-5)\n",
    "schedular = ReduceLROnPlateau(optimizer, factor=0.1, patience=2)"
   ]
  },
  {
   "cell_type": "markdown",
   "id": "360e8f34",
   "metadata": {},
   "source": [
    "### Data"
   ]
  },
  {
   "cell_type": "code",
   "execution_count": 8,
   "id": "a1d278b6",
   "metadata": {},
   "outputs": [
    {
     "name": "stdout",
     "output_type": "stream",
     "text": [
      "Train Images: 2976 Valid Images: 454\n"
     ]
    }
   ],
   "source": [
    "train = pd.read_csv('../../data/train.csv')\n",
    "valid = pd.read_csv('../../data/valid.csv')\n",
    "path = '../../data/'\n",
    "train, valid = dataLoader(path, train, valid)\n",
    "train = DataLoader(train, batch_size=4, shuffle=True, num_workers=1, drop_last=True)\n",
    "valid = DataLoader(valid, batch_size=4, shuffle=True, num_workers=1, drop_last=True)"
   ]
  },
  {
   "cell_type": "markdown",
   "id": "d5cbe3e0",
   "metadata": {},
   "source": [
    "### Train"
   ]
  },
  {
   "cell_type": "code",
   "execution_count": 9,
   "id": "6dca8d42",
   "metadata": {},
   "outputs": [],
   "source": [
    "trainer = {}\n",
    "trainer['model'] = model\n",
    "trainer['train_data'] = train\n",
    "trainer['valid_data'] = valid\n",
    "trainer['loss_fn'] = loss\n",
    "trainer['metric_fn'] = metric\n",
    "trainer['optimizer'] = optimizer\n",
    "trainer['save_path'] = '../../data/model.pt'\n",
    "trainer['epochs'] = 2\n",
    "trainer['batch'] = 4\n",
    "trainer['scheduler'] = schedular"
   ]
  },
  {
   "cell_type": "code",
   "execution_count": null,
   "id": "e2e09e02",
   "metadata": {},
   "outputs": [
    {
     "name": "stderr",
     "output_type": "stream",
     "text": [
      " 49% 1452/2976 [02:55<02:55,  8.67it/s, trn_ls=0.91306]"
     ]
    }
   ],
   "source": [
    "trainModel(**trainer)"
   ]
  },
  {
   "cell_type": "code",
   "execution_count": null,
   "id": "d439ff77",
   "metadata": {},
   "outputs": [],
   "source": []
  }
 ],
 "metadata": {
  "kernelspec": {
   "display_name": "Python 3 (ipykernel)",
   "language": "python",
   "name": "python3"
  },
  "language_info": {
   "codemirror_mode": {
    "name": "ipython",
    "version": 3
   },
   "file_extension": ".py",
   "mimetype": "text/x-python",
   "name": "python",
   "nbconvert_exporter": "python",
   "pygments_lexer": "ipython3",
   "version": "3.10.8"
  }
 },
 "nbformat": 4,
 "nbformat_minor": 5
}
