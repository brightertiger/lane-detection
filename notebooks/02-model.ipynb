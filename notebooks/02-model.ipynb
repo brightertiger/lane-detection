{
 "cells": [
  {
   "cell_type": "code",
   "execution_count": 1,
   "id": "e1e0bbb4",
   "metadata": {},
   "outputs": [],
   "source": [
    "import os\n",
    "import sys\n",
    "sys.path.append('..')"
   ]
  },
  {
   "cell_type": "code",
   "execution_count": 2,
   "id": "981f4ae8",
   "metadata": {},
   "outputs": [],
   "source": [
    "import random\n",
    "import torch\n",
    "import pandas as pd\n",
    "import numpy as np\n",
    "from torch.utils.data import DataLoader\n",
    "from torch.optim import Adam\n",
    "from torch.optim.lr_scheduler import ReduceLROnPlateau"
   ]
  },
  {
   "cell_type": "code",
   "execution_count": 3,
   "id": "a0edd177",
   "metadata": {},
   "outputs": [],
   "source": [
    "from source.data import dataLoader\n",
    "from source.model import Model\n",
    "from source.loss import Loss, Metric\n",
    "from source.train import trainModel"
   ]
  },
  {
   "cell_type": "markdown",
   "id": "079945cd",
   "metadata": {},
   "source": [
    "### Seed"
   ]
  },
  {
   "cell_type": "code",
   "execution_count": 4,
   "id": "ebcfda4b",
   "metadata": {},
   "outputs": [],
   "source": [
    "seed = 2017\n",
    "random.seed(seed)\n",
    "os.environ['PYTHONHASHSEED'] = str(seed)\n",
    "np.random.seed(seed)\n",
    "torch.manual_seed(seed)\n",
    "torch.cuda.manual_seed(seed)\n",
    "torch.backends.cudnn.deterministic = True\n",
    "torch.backends.cudnn.benchmark = True"
   ]
  },
  {
   "cell_type": "markdown",
   "id": "19b9dcc7",
   "metadata": {},
   "source": [
    "### Model"
   ]
  },
  {
   "cell_type": "code",
   "execution_count": 5,
   "id": "6f13ed7b",
   "metadata": {},
   "outputs": [],
   "source": [
    "model = Model()\n",
    "model = model.to('cuda:0')"
   ]
  },
  {
   "cell_type": "markdown",
   "id": "447848c2",
   "metadata": {},
   "source": [
    "### Loss"
   ]
  },
  {
   "cell_type": "code",
   "execution_count": 6,
   "id": "40137f16",
   "metadata": {},
   "outputs": [],
   "source": [
    "loss = Loss()\n",
    "metric = Metric() "
   ]
  },
  {
   "cell_type": "markdown",
   "id": "c74e036b",
   "metadata": {},
   "source": [
    "### Optimizer"
   ]
  },
  {
   "cell_type": "code",
   "execution_count": 7,
   "id": "2e540390",
   "metadata": {},
   "outputs": [],
   "source": [
    "optimizer = Adam(model.parameters(), lr=1e-3, weight_decay=1e-5)\n",
    "schedular = ReduceLROnPlateau(optimizer, factor=0.1, patience=2)"
   ]
  },
  {
   "cell_type": "markdown",
   "id": "eceeb1b4",
   "metadata": {},
   "source": [
    "### Data"
   ]
  },
  {
   "cell_type": "code",
   "execution_count": 8,
   "id": "a1d278b6",
   "metadata": {},
   "outputs": [
    {
     "name": "stdout",
     "output_type": "stream",
     "text": [
      "Train Images: 2976 Valid Images: 454\n"
     ]
    }
   ],
   "source": [
    "train = pd.read_csv('../../data/train.csv')\n",
    "valid = pd.read_csv('../../data/valid.csv')\n",
    "path = '../../data/'\n",
    "train, valid = dataLoader(path, train, valid)\n",
    "train = DataLoader(train, batch_size=4, shuffle=True, num_workers=1, drop_last=True)\n",
    "valid = DataLoader(valid, batch_size=4, shuffle=True, num_workers=1, drop_last=True)"
   ]
  },
  {
   "cell_type": "markdown",
   "id": "9d9247cc",
   "metadata": {},
   "source": [
    "### Train"
   ]
  },
  {
   "cell_type": "code",
   "execution_count": 9,
   "id": "6dca8d42",
   "metadata": {},
   "outputs": [],
   "source": [
    "trainer = {}\n",
    "trainer['model'] = model\n",
    "trainer['train_data'] = train\n",
    "trainer['valid_data'] = valid\n",
    "trainer['loss_fn'] = loss\n",
    "trainer['metric_fn'] = metric\n",
    "trainer['optimizer'] = optimizer\n",
    "trainer['save_path'] = '../../data/model.pt'\n",
    "trainer['epochs'] = 10\n",
    "trainer['batch'] = 4\n",
    "trainer['scheduler'] = schedular"
   ]
  },
  {
   "cell_type": "code",
   "execution_count": 10,
   "id": "e2e09e02",
   "metadata": {},
   "outputs": [
    {
     "name": "stderr",
     "output_type": "stream",
     "text": [
      "100% 2976/2976 [06:19<00:00,  7.85it/s, trn_ls=0.83998, trn_mt=0.13873, val_ls=0.78066, val_mt=0.16482]\n",
      "100% 2976/2976 [06:13<00:00,  7.97it/s, trn_ls=0.75851, trn_mt=0.17840, val_ls=0.75005, val_mt=0.18298]\n",
      "100% 2976/2976 [06:12<00:00,  7.98it/s, trn_ls=0.74349, trn_mt=0.18779, val_ls=0.74289, val_mt=0.19026]\n",
      "100% 2976/2976 [06:13<00:00,  7.96it/s, trn_ls=0.73241, trn_mt=0.19551, val_ls=0.72027, val_mt=0.20325]\n",
      "100% 2976/2976 [06:13<00:00,  7.98it/s, trn_ls=0.71824, trn_mt=0.20451, val_ls=0.71235, val_mt=0.20875]\n",
      "100% 2976/2976 [06:12<00:00,  7.98it/s, trn_ls=0.70494, trn_mt=0.21377, val_ls=0.70988, val_mt=0.20959]\n",
      "100% 2976/2976 [06:12<00:00,  7.98it/s, trn_ls=0.69638, trn_mt=0.21973, val_ls=0.69512, val_mt=0.21960]\n",
      "100% 2976/2976 [06:12<00:00,  7.98it/s, trn_ls=0.68890, trn_mt=0.22481, val_ls=0.70093, val_mt=0.21628]\n",
      "100% 2976/2976 [06:12<00:00,  8.00it/s, trn_ls=0.68000, trn_mt=0.23090, val_ls=0.69897, val_mt=0.21935]\n",
      "100% 2976/2976 [06:11<00:00,  8.01it/s, trn_ls=0.67760, trn_mt=0.23269, val_ls=0.68527, val_mt=0.22990]\n"
     ]
    }
   ],
   "source": [
    "trainModel(**trainer)"
   ]
  },
  {
   "cell_type": "code",
   "execution_count": null,
   "id": "7a2d10be",
   "metadata": {},
   "outputs": [],
   "source": []
  }
 ],
 "metadata": {
  "kernelspec": {
   "display_name": "Python 3 (ipykernel)",
   "language": "python",
   "name": "python3"
  },
  "language_info": {
   "codemirror_mode": {
    "name": "ipython",
    "version": 3
   },
   "file_extension": ".py",
   "mimetype": "text/x-python",
   "name": "python",
   "nbconvert_exporter": "python",
   "pygments_lexer": "ipython3",
   "version": "3.10.8"
  }
 },
 "nbformat": 4,
 "nbformat_minor": 5
}
