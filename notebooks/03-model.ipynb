{
 "cells": [
  {
   "cell_type": "code",
   "execution_count": 1,
   "id": "e1e0bbb4",
   "metadata": {},
   "outputs": [],
   "source": [
    "import os\n",
    "import sys\n",
    "sys.path.append('..')"
   ]
  },
  {
   "cell_type": "code",
   "execution_count": 2,
   "id": "981f4ae8",
   "metadata": {},
   "outputs": [],
   "source": [
    "import random\n",
    "import torch\n",
    "import pandas as pd\n",
    "import numpy as np\n",
    "from torch.utils.data import DataLoader\n",
    "from torch.optim import Adam\n",
    "from torch.optim.lr_scheduler import ReduceLROnPlateau"
   ]
  },
  {
   "cell_type": "code",
   "execution_count": 3,
   "id": "a0edd177",
   "metadata": {},
   "outputs": [],
   "source": [
    "from source.data import dataLoader\n",
    "from source.model import Model\n",
    "from source.loss import Loss, Metric\n",
    "from source.train import trainModel"
   ]
  },
  {
   "cell_type": "markdown",
   "id": "079945cd",
   "metadata": {},
   "source": [
    "### Seed"
   ]
  },
  {
   "cell_type": "code",
   "execution_count": 4,
   "id": "ebcfda4b",
   "metadata": {},
   "outputs": [],
   "source": [
    "seed = 2017\n",
    "random.seed(seed)\n",
    "os.environ['PYTHONHASHSEED'] = str(seed)\n",
    "np.random.seed(seed)\n",
    "torch.manual_seed(seed)\n",
    "torch.cuda.manual_seed(seed)\n",
    "torch.backends.cudnn.deterministic = True\n",
    "torch.backends.cudnn.benchmark = True"
   ]
  },
  {
   "cell_type": "markdown",
   "id": "19b9dcc7",
   "metadata": {},
   "source": [
    "### Model"
   ]
  },
  {
   "cell_type": "code",
   "execution_count": 5,
   "id": "6f13ed7b",
   "metadata": {},
   "outputs": [],
   "source": [
    "model = Model()\n",
    "model = model.to('cuda:0')"
   ]
  },
  {
   "cell_type": "markdown",
   "id": "447848c2",
   "metadata": {},
   "source": [
    "### Loss"
   ]
  },
  {
   "cell_type": "code",
   "execution_count": 6,
   "id": "40137f16",
   "metadata": {},
   "outputs": [],
   "source": [
    "loss = Loss()\n",
    "metric = Metric() "
   ]
  },
  {
   "cell_type": "markdown",
   "id": "c74e036b",
   "metadata": {},
   "source": [
    "### Optimizer"
   ]
  },
  {
   "cell_type": "code",
   "execution_count": 7,
   "id": "2e540390",
   "metadata": {},
   "outputs": [],
   "source": [
    "optimizer = Adam(model.parameters(), lr=1e-3, weight_decay=1e-6)\n",
    "schedular = ReduceLROnPlateau(optimizer, factor=0.1, patience=0)"
   ]
  },
  {
   "cell_type": "markdown",
   "id": "eceeb1b4",
   "metadata": {},
   "source": [
    "### Data"
   ]
  },
  {
   "cell_type": "code",
   "execution_count": 8,
   "id": "a1d278b6",
   "metadata": {},
   "outputs": [
    {
     "name": "stdout",
     "output_type": "stream",
     "text": [
      "Train Images: 2976 Valid Images: 454\n"
     ]
    }
   ],
   "source": [
    "train = pd.read_csv('../../data/train.csv')\n",
    "valid = pd.read_csv('../../data/valid.csv')\n",
    "path = '../../data/'\n",
    "train, valid = dataLoader(path, train, valid)\n",
    "train = DataLoader(train, batch_size=6, shuffle=True, num_workers=1, drop_last=True)\n",
    "valid = DataLoader(valid, batch_size=6, shuffle=True, num_workers=1, drop_last=True)"
   ]
  },
  {
   "cell_type": "markdown",
   "id": "9d9247cc",
   "metadata": {},
   "source": [
    "### Train"
   ]
  },
  {
   "cell_type": "code",
   "execution_count": 9,
   "id": "6dca8d42",
   "metadata": {},
   "outputs": [],
   "source": [
    "trainer = {}\n",
    "trainer['model'] = model\n",
    "trainer['train_data'] = train\n",
    "trainer['valid_data'] = valid\n",
    "trainer['loss_fn'] = loss\n",
    "trainer['metric_fn'] = metric\n",
    "trainer['optimizer'] = optimizer\n",
    "trainer['save_path'] = '../../data/model.pt'\n",
    "trainer['epochs'] = 15\n",
    "trainer['batch'] = 6\n",
    "trainer['scheduler'] = schedular"
   ]
  },
  {
   "cell_type": "code",
   "execution_count": 10,
   "id": "e2e09e02",
   "metadata": {},
   "outputs": [
    {
     "name": "stderr",
     "output_type": "stream",
     "text": [
      "100% 2976/2976 [06:13<00:00,  7.97it/s, trn_ls=0.85196, trn_mt=0.13527, val_ls=0.77264, val_mt=0.16949]\n",
      "100% 2976/2976 [06:06<00:00,  8.12it/s, trn_ls=0.75521, trn_mt=0.18017, val_ls=0.73843, val_mt=0.19190]\n",
      "100% 2976/2976 [06:05<00:00,  8.13it/s, trn_ls=0.73548, trn_mt=0.19248, val_ls=0.74901, val_mt=0.19127]\n",
      "100% 2976/2976 [06:06<00:00,  8.12it/s, trn_ls=0.70508, trn_mt=0.21285, val_ls=0.69064, val_mt=0.22330]\n",
      "100% 2976/2976 [06:06<00:00,  8.12it/s, trn_ls=0.69258, trn_mt=0.22103, val_ls=0.68903, val_mt=0.22374]\n",
      "100% 2976/2976 [06:06<00:00,  8.12it/s, trn_ls=0.68452, trn_mt=0.22683, val_ls=0.68702, val_mt=0.22558]\n",
      "100% 2976/2976 [06:06<00:00,  8.11it/s, trn_ls=0.67935, trn_mt=0.23039, val_ls=0.67433, val_mt=0.23522]\n",
      "100% 2976/2976 [06:06<00:00,  8.13it/s, trn_ls=0.67175, trn_mt=0.23579, val_ls=0.67018, val_mt=0.23739]\n",
      "100% 2976/2976 [06:06<00:00,  8.12it/s, trn_ls=0.66611, trn_mt=0.23986, val_ls=0.66869, val_mt=0.23740]\n",
      "100% 2976/2976 [06:06<00:00,  8.11it/s, trn_ls=0.66076, trn_mt=0.24353, val_ls=0.65617, val_mt=0.24780]\n",
      "100% 2976/2976 [06:06<00:00,  8.12it/s, trn_ls=0.65700, trn_mt=0.24635, val_ls=0.65278, val_mt=0.25050]\n",
      "100% 2976/2976 [06:06<00:00,  8.12it/s, trn_ls=0.65491, trn_mt=0.24799, val_ls=0.65946, val_mt=0.24464]\n",
      "100% 2976/2976 [06:06<00:00,  8.11it/s, trn_ls=0.64486, trn_mt=0.25531, val_ls=0.65404, val_mt=0.24877]\n",
      "100% 2976/2976 [06:06<00:00,  8.13it/s, trn_ls=0.64271, trn_mt=0.25689, val_ls=0.64812, val_mt=0.25268]\n",
      "100% 2976/2976 [06:06<00:00,  8.12it/s, trn_ls=0.64112, trn_mt=0.25786, val_ls=0.65166, val_mt=0.25045]\n"
     ]
    }
   ],
   "source": [
    "trainModel(**trainer)"
   ]
  },
  {
   "cell_type": "code",
   "execution_count": null,
   "id": "7a2d10be",
   "metadata": {},
   "outputs": [],
   "source": []
  }
 ],
 "metadata": {
  "kernelspec": {
   "display_name": "Python 3 (ipykernel)",
   "language": "python",
   "name": "python3"
  },
  "language_info": {
   "codemirror_mode": {
    "name": "ipython",
    "version": 3
   },
   "file_extension": ".py",
   "mimetype": "text/x-python",
   "name": "python",
   "nbconvert_exporter": "python",
   "pygments_lexer": "ipython3",
   "version": "3.10.8"
  }
 },
 "nbformat": 4,
 "nbformat_minor": 5
}
